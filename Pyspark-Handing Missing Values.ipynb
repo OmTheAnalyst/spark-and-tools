{
 "cells": [
  {
   "cell_type": "code",
   "execution_count": 2,
   "id": "9eb64b4a",
   "metadata": {},
   "outputs": [
    {
     "data": {
      "text/html": [
       "\n",
       "            <div>\n",
       "                <p><b>SparkSession - in-memory</b></p>\n",
       "                \n",
       "        <div>\n",
       "            <p><b>SparkContext</b></p>\n",
       "\n",
       "            <p><a href=\"http://INLEN8520019937.corp.capgemini.com:4040\">Spark UI</a></p>\n",
       "\n",
       "            <dl>\n",
       "              <dt>Version</dt>\n",
       "                <dd><code>v3.4.1</code></dd>\n",
       "              <dt>Master</dt>\n",
       "                <dd><code>local[*]</code></dd>\n",
       "              <dt>AppName</dt>\n",
       "                <dd><code>PysparkDataCleaning</code></dd>\n",
       "            </dl>\n",
       "        </div>\n",
       "        \n",
       "            </div>\n",
       "        "
      ],
      "text/plain": [
       "<pyspark.sql.session.SparkSession at 0x23cc396a290>"
      ]
     },
     "execution_count": 2,
     "metadata": {},
     "output_type": "execute_result"
    }
   ],
   "source": [
    "from pyspark.sql import SparkSession\n",
    "\n",
    "spark = SparkSession.builder.appName(\"PysparkDataCleaning\").getOrCreate()\n",
    "spark"
   ]
  },
  {
   "cell_type": "code",
   "execution_count": 22,
   "id": "90f76e1f",
   "metadata": {},
   "outputs": [],
   "source": [
    "df_pyspark = spark.read.csv(r\"C:\\Users\\opandey2\\Desktop\\test1.csv\", header = True, inferSchema = True)"
   ]
  },
  {
   "cell_type": "code",
   "execution_count": 27,
   "id": "ddfe382b",
   "metadata": {},
   "outputs": [
    {
     "name": "stdout",
     "output_type": "stream",
     "text": [
      "+--------+----+----------+------+\n",
      "|    Name| age|Experience|Salary|\n",
      "+--------+----+----------+------+\n",
      "|      Om|  23|         2| 43000|\n",
      "|   2dwaf|  23|         3| 65888|\n",
      "|     asf|  32|         3| 60000|\n",
      "|sudhansu|  36|         7|300000|\n",
      "|   krish|null|         8|  null|\n",
      "|    herp|  27|      null| 53576|\n",
      "|  sumyiy|  24|         3|170000|\n",
      "|    null|null|      null|  null|\n",
      "|    null|  31|         4|573547|\n",
      "|   HIQWQ|null|      null|  null|\n",
      "+--------+----+----------+------+\n",
      "\n"
     ]
    }
   ],
   "source": [
    "df_pyspark.show()"
   ]
  },
  {
   "cell_type": "code",
   "execution_count": 16,
   "id": "8ec6aa5c",
   "metadata": {},
   "outputs": [
    {
     "name": "stdout",
     "output_type": "stream",
     "text": [
      "+----+----------+------+\n",
      "| age|Experience|Salary|\n",
      "+----+----------+------+\n",
      "|  23|         2| 43000|\n",
      "|  23|         3| 65888|\n",
      "|  32|         3| 60000|\n",
      "|  36|         7|300000|\n",
      "|null|         8|340594|\n",
      "|  27|      null| 53576|\n",
      "|  24|         3|170000|\n",
      "|  29|      null|  null|\n",
      "|  31|         4|573547|\n",
      "+----+----------+------+\n",
      "\n"
     ]
    }
   ],
   "source": [
    "#To Drop the columns:\n",
    "\n",
    "df_pyspark.drop('Name').show()"
   ]
  },
  {
   "cell_type": "code",
   "execution_count": 24,
   "id": "6e973f1a",
   "metadata": {},
   "outputs": [
    {
     "name": "stdout",
     "output_type": "stream",
     "text": [
      "+--------+---+----------+------+\n",
      "|    Name|age|Experience|Salary|\n",
      "+--------+---+----------+------+\n",
      "|      Om| 23|         2| 43000|\n",
      "|   2dwaf| 23|         3| 65888|\n",
      "|     asf| 32|         3| 60000|\n",
      "|sudhansu| 36|         7|300000|\n",
      "|  sumyiy| 24|         3|170000|\n",
      "+--------+---+----------+------+\n",
      "\n"
     ]
    }
   ],
   "source": [
    "#To Drop all the Null rows:\n",
    "\n",
    "df_pyspark.na.drop().show()"
   ]
  },
  {
   "cell_type": "code",
   "execution_count": 26,
   "id": "1ec6b241",
   "metadata": {},
   "outputs": [
    {
     "name": "stdout",
     "output_type": "stream",
     "text": [
      "+--------+----+----------+------+\n",
      "|    Name| age|Experience|Salary|\n",
      "+--------+----+----------+------+\n",
      "|      Om|  23|         2| 43000|\n",
      "|   2dwaf|  23|         3| 65888|\n",
      "|     asf|  32|         3| 60000|\n",
      "|sudhansu|  36|         7|300000|\n",
      "|   krish|null|         8|  null|\n",
      "|    herp|  27|      null| 53576|\n",
      "|  sumyiy|  24|         3|170000|\n",
      "|    null|  31|         4|573547|\n",
      "|   HIQWQ|null|      null|  null|\n",
      "+--------+----+----------+------+\n",
      "\n"
     ]
    }
   ],
   "source": [
    "#To drop rows whose entire row has null values:\n",
    "\n",
    "df_pyspark.na.drop(how=\"all\").show()"
   ]
  },
  {
   "cell_type": "code",
   "execution_count": 21,
   "id": "e33e201f",
   "metadata": {},
   "outputs": [
    {
     "name": "stdout",
     "output_type": "stream",
     "text": [
      "+--------+----+----------+------+\n",
      "|    Name| age|Experience|Salary|\n",
      "+--------+----+----------+------+\n",
      "|      Om|  23|         2| 43000|\n",
      "|   2dwaf|  23|         3| 65888|\n",
      "|     asf|  32|         3| 60000|\n",
      "|sudhansu|  36|         7|300000|\n",
      "|   krish|null|         8|340594|\n",
      "|    herp|  27|      null| 53576|\n",
      "|  sumyiy|  24|         3|170000|\n",
      "|    null|  31|         4|573547|\n",
      "+--------+----+----------+------+\n",
      "\n"
     ]
    }
   ],
   "source": [
    "#Threshold value = 2 (atleast 2 non null values should be present)\n",
    "\n",
    "df_pyspark.na.drop(how=\"any\", thresh=2).show()\n"
   ]
  },
  {
   "cell_type": "code",
   "execution_count": 30,
   "id": "dd63ad42",
   "metadata": {},
   "outputs": [
    {
     "name": "stdout",
     "output_type": "stream",
     "text": [
      "+--------+---+----------+------+\n",
      "|    Name|age|Experience|Salary|\n",
      "+--------+---+----------+------+\n",
      "|      Om| 23|         2| 43000|\n",
      "|   2dwaf| 23|         3| 65888|\n",
      "|     asf| 32|         3| 60000|\n",
      "|sudhansu| 36|         7|300000|\n",
      "|    herp| 27|      null| 53576|\n",
      "|  sumyiy| 24|         3|170000|\n",
      "|    null| 31|         4|573547|\n",
      "+--------+---+----------+------+\n",
      "\n"
     ]
    }
   ],
   "source": [
    "df_pyspark.na.drop(how = \"any\", thresh = 3).show()"
   ]
  },
  {
   "cell_type": "code",
   "execution_count": 32,
   "id": "1a6f4dc9",
   "metadata": {},
   "outputs": [
    {
     "name": "stdout",
     "output_type": "stream",
     "text": [
      "+--------+---+----------+------+\n",
      "|    Name|age|Experience|Salary|\n",
      "+--------+---+----------+------+\n",
      "|      Om| 23|         2| 43000|\n",
      "|   2dwaf| 23|         3| 65888|\n",
      "|     asf| 32|         3| 60000|\n",
      "|sudhansu| 36|         7|300000|\n",
      "|  sumyiy| 24|         3|170000|\n",
      "+--------+---+----------+------+\n",
      "\n"
     ]
    }
   ],
   "source": [
    "df_pyspark.na.drop(how=\"any\",thresh = 4).show()"
   ]
  },
  {
   "cell_type": "code",
   "execution_count": 34,
   "id": "94a46713",
   "metadata": {},
   "outputs": [
    {
     "name": "stdout",
     "output_type": "stream",
     "text": [
      "+--------+----+----------+------+\n",
      "|    Name| age|Experience|Salary|\n",
      "+--------+----+----------+------+\n",
      "|      Om|  23|         2| 43000|\n",
      "|   2dwaf|  23|         3| 65888|\n",
      "|     asf|  32|         3| 60000|\n",
      "|sudhansu|  36|         7|300000|\n",
      "|   krish|null|         8|  null|\n",
      "|  sumyiy|  24|         3|170000|\n",
      "|    null|  31|         4|573547|\n",
      "+--------+----+----------+------+\n",
      "\n"
     ]
    }
   ],
   "source": [
    "##Subset\n",
    "###Subset will remove null values from the column which has been specified in subset field:\n",
    "\n",
    "df_pyspark.na.drop(how=\"any\",subset=['Experience']).show()"
   ]
  },
  {
   "cell_type": "code",
   "execution_count": 35,
   "id": "451ef64f",
   "metadata": {},
   "outputs": [
    {
     "name": "stdout",
     "output_type": "stream",
     "text": [
      "+--------+---+----------+------+\n",
      "|    Name|age|Experience|Salary|\n",
      "+--------+---+----------+------+\n",
      "|      Om| 23|         2| 43000|\n",
      "|   2dwaf| 23|         3| 65888|\n",
      "|     asf| 32|         3| 60000|\n",
      "|sudhansu| 36|         7|300000|\n",
      "|  sumyiy| 24|         3|170000|\n",
      "|    null| 31|         4|573547|\n",
      "+--------+---+----------+------+\n",
      "\n"
     ]
    }
   ],
   "source": [
    "##Subset deleting null values from 2 specified columns:\n",
    "\n",
    "df_pyspark.na.drop(how=\"any\",subset = ['Experience','age']).show()"
   ]
  },
  {
   "cell_type": "code",
   "execution_count": 42,
   "id": "ee402800",
   "metadata": {},
   "outputs": [
    {
     "name": "stdout",
     "output_type": "stream",
     "text": [
      "+--------------+----+----------+------+\n",
      "|          Name| age|Experience|Salary|\n",
      "+--------------+----+----------+------+\n",
      "|            Om|  23|         2| 43000|\n",
      "|         2dwaf|  23|         3| 65888|\n",
      "|           asf|  32|         3| 60000|\n",
      "|      sudhansu|  36|         7|300000|\n",
      "|         krish|null|         8|  null|\n",
      "|          herp|  27|      null| 53576|\n",
      "|        sumyiy|  24|         3|170000|\n",
      "|Missing Values|null|      null|  null|\n",
      "|Missing Values|  31|         4|573547|\n",
      "|         HIQWQ|null|      null|  null|\n",
      "+--------------+----+----------+------+\n",
      "\n"
     ]
    }
   ],
   "source": [
    "##Filling the missing values:\n",
    "\n",
    "df_pyspark.na.fill('Missing Values').show()"
   ]
  },
  {
   "cell_type": "code",
   "execution_count": 43,
   "id": "3010eff1",
   "metadata": {},
   "outputs": [],
   "source": [
    "# filling missing value with Imputer functions\n",
    "\n",
    "from pyspark.ml.feature import Imputer\n"
   ]
  },
  {
   "cell_type": "code",
   "execution_count": 47,
   "id": "b6f5a4e6",
   "metadata": {},
   "outputs": [],
   "source": [
    "imputer = Imputer(\n",
    "    inputCols=['age','Experience','Salary'],\n",
    "    outputCols=[\"{}_imputed\".format(c) for c in ['age','Experience','Salary']]\n",
    ").setStrategy(\"mean\")\n"
   ]
  },
  {
   "cell_type": "code",
   "execution_count": 48,
   "id": "30644e76",
   "metadata": {},
   "outputs": [
    {
     "name": "stdout",
     "output_type": "stream",
     "text": [
      "+--------+----+----------+------+-----------+------------------+--------------+\n",
      "|    Name| age|Experience|Salary|age_imputed|Experience_imputed|Salary_imputed|\n",
      "+--------+----+----------+------+-----------+------------------+--------------+\n",
      "|      Om|  23|         2| 43000|         23|                 2|         43000|\n",
      "|   2dwaf|  23|         3| 65888|         23|                 3|         65888|\n",
      "|     asf|  32|         3| 60000|         32|                 3|         60000|\n",
      "|sudhansu|  36|         7|300000|         36|                 7|        300000|\n",
      "|   krish|null|         8|  null|         28|                 8|        180858|\n",
      "|    herp|  27|      null| 53576|         27|                 4|         53576|\n",
      "|  sumyiy|  24|         3|170000|         24|                 3|        170000|\n",
      "|    null|null|      null|  null|         28|                 4|        180858|\n",
      "|    null|  31|         4|573547|         31|                 4|        573547|\n",
      "|   HIQWQ|null|      null|  null|         28|                 4|        180858|\n",
      "+--------+----+----------+------+-----------+------------------+--------------+\n",
      "\n"
     ]
    }
   ],
   "source": [
    "#adding Imputation column to df:\n",
    "\n",
    "imputer.fit(df_pyspark).transform(df_pyspark).show()"
   ]
  },
  {
   "cell_type": "code",
   "execution_count": null,
   "id": "d546eded",
   "metadata": {},
   "outputs": [],
   "source": []
  }
 ],
 "metadata": {
  "kernelspec": {
   "display_name": "Python 3 (ipykernel)",
   "language": "python",
   "name": "python3"
  },
  "language_info": {
   "codemirror_mode": {
    "name": "ipython",
    "version": 3
   },
   "file_extension": ".py",
   "mimetype": "text/x-python",
   "name": "python",
   "nbconvert_exporter": "python",
   "pygments_lexer": "ipython3",
   "version": "3.10.9"
  }
 },
 "nbformat": 4,
 "nbformat_minor": 5
}

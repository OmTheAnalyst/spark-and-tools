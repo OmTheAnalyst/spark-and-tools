{
 "cells": [
  {
   "cell_type": "code",
   "execution_count": 2,
   "id": "85fd2391",
   "metadata": {},
   "outputs": [],
   "source": [
    "from pyspark.sql import SparkSession"
   ]
  },
  {
   "cell_type": "code",
   "execution_count": 3,
   "id": "21f3957f",
   "metadata": {},
   "outputs": [],
   "source": [
    "spark = SparkSession.builder.appName('FilterApp').getOrCreate()"
   ]
  },
  {
   "cell_type": "code",
   "execution_count": 5,
   "id": "deaf3cdd",
   "metadata": {},
   "outputs": [
    {
     "name": "stdout",
     "output_type": "stream",
     "text": [
      "+--------+---+----------+------+\n",
      "|    Name|age|Experience|Salary|\n",
      "+--------+---+----------+------+\n",
      "|      Om| 23|         2| 43000|\n",
      "|   2dwaf| 23|         3| 65888|\n",
      "|     asf| 32|         3| 60000|\n",
      "|sudhansu| 36|         7|300000|\n",
      "|    herp| 27|      null| 53576|\n",
      "|  sumyiy| 24|         3|170000|\n",
      "|  zurmar| 31|         4|573547|\n",
      "|   HIQWQ| 28|         7|465777|\n",
      "+--------+---+----------+------+\n",
      "\n"
     ]
    }
   ],
   "source": [
    "df_pyspark = spark.read.csv(r\"C:\\Users\\opandey2\\Desktop\\test1.csv\",header = True, inferSchema = True)\n",
    "df_pyspark.show()"
   ]
  },
  {
   "cell_type": "markdown",
   "id": "f5dd25ae",
   "metadata": {},
   "source": [
    "#Filter Operations\n"
   ]
  },
  {
   "cell_type": "code",
   "execution_count": 8,
   "id": "392fcb62",
   "metadata": {},
   "outputs": [
    {
     "name": "stdout",
     "output_type": "stream",
     "text": [
      "+----+---+----------+------+\n",
      "|Name|age|Experience|Salary|\n",
      "+----+---+----------+------+\n",
      "|  Om| 23|         2| 43000|\n",
      "+----+---+----------+------+\n",
      "\n"
     ]
    }
   ],
   "source": [
    "##Salary of people less than 20k:\n",
    "\n",
    "df_pyspark.filter('Salary<=50000').show()"
   ]
  },
  {
   "cell_type": "code",
   "execution_count": 11,
   "id": "787373e9",
   "metadata": {},
   "outputs": [
    {
     "name": "stdout",
     "output_type": "stream",
     "text": [
      "+----+---+----------+\n",
      "|Name|age|experience|\n",
      "+----+---+----------+\n",
      "|  Om| 23|         2|\n",
      "+----+---+----------+\n",
      "\n"
     ]
    }
   ],
   "source": [
    "df_pyspark.filter('Salary <=50000').select(['Name','age','experience']).show()"
   ]
  },
  {
   "cell_type": "code",
   "execution_count": 12,
   "id": "4e561d4d",
   "metadata": {},
   "outputs": [
    {
     "name": "stdout",
     "output_type": "stream",
     "text": [
      "+----+---+----------+------+\n",
      "|Name|age|Experience|Salary|\n",
      "+----+---+----------+------+\n",
      "|  Om| 23|         2| 43000|\n",
      "+----+---+----------+------+\n",
      "\n"
     ]
    }
   ],
   "source": [
    "df_pyspark.filter(df_pyspark['salary']<=50000).show()"
   ]
  },
  {
   "cell_type": "code",
   "execution_count": 29,
   "id": "fe9d5553",
   "metadata": {},
   "outputs": [
    {
     "name": "stdout",
     "output_type": "stream",
     "text": [
      "+-----+---+----------+------+\n",
      "| Name|age|Experience|Salary|\n",
      "+-----+---+----------+------+\n",
      "|   Om| 23|         2| 43000|\n",
      "|2dwaf| 23|         3| 65888|\n",
      "|  asf| 32|         3| 60000|\n",
      "| herp| 27|      null| 53576|\n",
      "+-----+---+----------+------+\n",
      "\n"
     ]
    }
   ],
   "source": [
    "##Filter with AND & Condition:\n",
    "\n",
    "df_pyspark.filter((df_pyspark['Salary']<=90000) & (df_pyspark['Salary']>=15000)).show()"
   ]
  },
  {
   "cell_type": "code",
   "execution_count": 27,
   "id": "cb453836",
   "metadata": {},
   "outputs": [
    {
     "name": "stdout",
     "output_type": "stream",
     "text": [
      "+--------+---+----------+------+\n",
      "|    Name|age|Experience|Salary|\n",
      "+--------+---+----------+------+\n",
      "|      Om| 23|         2| 43000|\n",
      "|   2dwaf| 23|         3| 65888|\n",
      "|sudhansu| 36|         7|300000|\n",
      "|  sumyiy| 24|         3|170000|\n",
      "|   HIQWQ| 28|         7|465777|\n",
      "+--------+---+----------+------+\n",
      "\n"
     ]
    }
   ],
   "source": [
    "##Filter with OR | condition:\n",
    "\n",
    "df_pyspark.filter((df_pyspark['age']<=25) | (df_pyspark['Experience']>= 5)).show()"
   ]
  },
  {
   "cell_type": "code",
   "execution_count": 35,
   "id": "636a892b",
   "metadata": {},
   "outputs": [
    {
     "name": "stdout",
     "output_type": "stream",
     "text": [
      "+--------+---+----------+------+\n",
      "|    Name|age|Experience|Salary|\n",
      "+--------+---+----------+------+\n",
      "|sudhansu| 36|         7|300000|\n",
      "|  zurmar| 31|         4|573547|\n",
      "|   HIQWQ| 28|         7|465777|\n",
      "+--------+---+----------+------+\n",
      "\n"
     ]
    }
   ],
   "source": [
    "##Filtering with NOT ~ operatoins:\n",
    "\n",
    "df_pyspark.filter(~(df_pyspark['Salary']<300000)).show() #Salary which is (NOT ~) Smaller than 3lac. "
   ]
  },
  {
   "cell_type": "code",
   "execution_count": null,
   "id": "d7e38aca",
   "metadata": {},
   "outputs": [],
   "source": []
  },
  {
   "cell_type": "code",
   "execution_count": null,
   "id": "fe70aec7",
   "metadata": {},
   "outputs": [],
   "source": []
  }
 ],
 "metadata": {
  "kernelspec": {
   "display_name": "Python 3 (ipykernel)",
   "language": "python",
   "name": "python3"
  },
  "language_info": {
   "codemirror_mode": {
    "name": "ipython",
    "version": 3
   },
   "file_extension": ".py",
   "mimetype": "text/x-python",
   "name": "python",
   "nbconvert_exporter": "python",
   "pygments_lexer": "ipython3",
   "version": "3.10.9"
  }
 },
 "nbformat": 4,
 "nbformat_minor": 5
}
